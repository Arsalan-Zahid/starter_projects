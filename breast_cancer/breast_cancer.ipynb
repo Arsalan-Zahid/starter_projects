{
 "cells": [
  {
   "cell_type": "code",
   "execution_count": 1,
   "metadata": {},
   "outputs": [],
   "source": [
    "#Get Data\n",
    "\n",
    "import pandas as pd\n",
    "import numpy as np\n",
    "\n",
    "master_data = pd.read_csv(\"breast_cancer_data.csv\")\n",
    "x_original = master_data.iloc[:, 2:29]\n",
    "y_original = master_data.iloc[:, 1]\n"
   ]
  },
  {
   "cell_type": "code",
   "execution_count": 2,
   "metadata": {},
   "outputs": [],
   "source": [
    "from sklearn.model_selection import train_test_split\n",
    "\n",
    "x_train, x_test, y_train, y_test = train_test_split(x_original, y_original, test_size=0.2)"
   ]
  },
  {
   "cell_type": "code",
   "execution_count": 3,
   "metadata": {},
   "outputs": [
    {
     "data": {
      "text/plain": [
       "array([[-0.97225276, -0.95758649, -0.99844002, ..., -1.09272982,\n",
       "        -1.17558622, -1.29491094],\n",
       "       [-0.28843037, -0.15424711, -0.26652078, ...,  0.07000937,\n",
       "         0.05661319, -0.0761183 ],\n",
       "       [ 0.19510931,  1.44075519,  0.13312375, ..., -1.16240708,\n",
       "        -0.74164829, -0.5318037 ],\n",
       "       ...,\n",
       "       [-0.17684429,  0.54400426, -0.2211917 , ..., -1.01434291,\n",
       "        -0.32632816, -0.3072768 ],\n",
       "       [-0.25409619, -0.2406528 , -0.3002057 , ..., -0.19563516,\n",
       "        -0.37489633, -0.40627706],\n",
       "       [-1.43519193, -0.08185316, -1.30701051, ..., -0.4612797 ,\n",
       "         0.73532225,  0.88830525]])"
      ]
     },
     "execution_count": 3,
     "metadata": {},
     "output_type": "execute_result"
    }
   ],
   "source": [
    "from sklearn.preprocessing import StandardScaler\n",
    "\n",
    "scaler = StandardScaler()\n",
    "scaler.fit_transform(x_train, x_test)"
   ]
  },
  {
   "cell_type": "code",
   "execution_count": 4,
   "metadata": {},
   "outputs": [
    {
     "name": "stdout",
     "output_type": "stream",
     "text": [
      "[[73  1]\n",
      " [ 5 35]]\n"
     ]
    }
   ],
   "source": [
    "from sklearn.svm import SVC\n",
    "\n",
    "svm = SVC()\n",
    "svm.fit(x_train, y_train)\n",
    "y_pred = svm.predict(x_test)\n",
    "\n",
    "from sklearn.metrics import confusion_matrix\n",
    "print(confusion_matrix(y_test, y_pred))"
   ]
  }
 ],
 "metadata": {
  "interpreter": {
   "hash": "145a605cbc3d75a5952fe19eea3c5e0bfbbefc93bbac9281d65597d6051023bf"
  },
  "kernelspec": {
   "display_name": "Python 3.9.7 64-bit",
   "language": "python",
   "name": "python3"
  },
  "language_info": {
   "codemirror_mode": {
    "name": "ipython",
    "version": 3
   },
   "file_extension": ".py",
   "mimetype": "text/x-python",
   "name": "python",
   "nbconvert_exporter": "python",
   "pygments_lexer": "ipython3",
   "version": "3.9.7"
  },
  "orig_nbformat": 4
 },
 "nbformat": 4,
 "nbformat_minor": 2
}
